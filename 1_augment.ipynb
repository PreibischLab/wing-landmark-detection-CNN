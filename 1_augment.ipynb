{
 "cells": [
  {
   "cell_type": "markdown",
   "metadata": {},
   "source": [
    "Data augmentation is done in this notebook and not while running because keras doesn't support generation of multichannel in y (for channels that don't exist in x)"
   ]
  },
  {
   "cell_type": "code",
   "execution_count": null,
   "metadata": {},
   "outputs": [],
   "source": [
    "from __future__ import print_function\n",
    "import keras\n",
    "from keras.preprocessing.image import ImageDataGenerator\n",
    "from keras.models import load_model\n",
    "\n",
    "from keras.models import Model\n",
    "\n",
    "from sklearn.utils import shuffle\n",
    "\n",
    "import numpy as np\n",
    "from time import time\n"
   ]
  },
  {
   "cell_type": "code",
   "execution_count": null,
   "metadata": {},
   "outputs": [],
   "source": [
    "import matplotlib\n",
    "matplotlib.use('Agg');\n",
    "import matplotlib.pyplot as plt\n",
    "plt.set_cmap('Greys');\n",
    "\n",
    "%matplotlib inline"
   ]
  },
  {
   "cell_type": "code",
   "execution_count": 2,
   "metadata": {},
   "outputs": [],
   "source": [
    "input_dir = '/YOURPATH/'\n",
    "\n",
    "output_dir = \"/YOUR_OUTPUT_DIR/\""
   ]
  },
  {
   "cell_type": "markdown",
   "metadata": {},
   "source": [
    "#### Data augmentation:"
   ]
  },
  {
   "cell_type": "code",
   "execution_count": null,
   "metadata": {},
   "outputs": [],
   "source": [
    "def load_input_set_shuffle_and_split(is_shuffle=True, shuffle_seed=0, n_train=20, is_norm_y_ims=False):\n",
    "    # Load X and Y\n",
    "    x = np.load(os.path.join(input_folder, 'npy_data', f'{params[\"x_file\"]}.npy'))\n",
    "    y = np.load(os.path.join(input_folder, 'npy_data', f'{params[\"y_file\"]}.npy'))\n",
    "    \n",
    "    if y.ndim == 3:\n",
    "        y = y.astype('float32')[:,:,:, None]\n",
    "\n",
    "    print(f'x size: {x.shape}')\n",
    "    print(f'y size: {y.shape}')\n",
    "    \n",
    "    # Check Y Range:\n",
    "    print(f'max Y: {np.max(y)}, min Y: {np.min(y)}')\n",
    "    \n",
    "    \n",
    "    if is_shuffle:\n",
    "        x, y = shuffle(x, y, random_state=shuffle_seed)\n",
    "        \n",
    "    # Normalize Y - each image:\n",
    "    # Already done for euclidean dist images.\n",
    "    if is_norm_y_ims:\n",
    "        for i in range(y.shape[0]):\n",
    "            for j in range(y.shape[3]):\n",
    "                im = y[i,:,:,j]\n",
    "                y[i,:,:,j] = im/np.max(im)\n",
    "    \n",
    "    \n",
    "    # Split data to train and test:\n",
    "    (x_train, y_train) = x[:n_train], y[:n_train]\n",
    "    (x_test, y_test) = x[n_train:], y[n_train:]\n",
    "\n",
    "    print(f'y train size: {y_train.shape}')\n",
    "    print(f'y test size: {y_test.shape}')\n",
    "\n",
    "    x_train = x_train.astype('float32')[:,:,:, None]\n",
    "    x_test = x_test.astype('float32')[:,:,:, None]\n",
    "\n",
    "    print(f'x train size: {x_train.shape}')\n",
    "    print(f'x test size: {x_test.shape}')\n",
    "    \n",
    "    # Print x normalization data:\n",
    "    # Check that x is already normalized:\n",
    "    print(f'mean x: {np.mean(x)}')\n",
    "    print(f'std x: {np.std(x)}')\n",
    "    print(f'min x: {np.min(x)}')\n",
    "    print(f'max x: {np.max(x)}')\n",
    "    \n",
    "    print(f'mean x_train: {np.mean(x_train)}')\n",
    "    print(f'std x_train: {np.std(x_train)}')\n",
    "    print(f'min x_train: {np.min(x_train)}')\n",
    "    print(f'max x_train: {np.max(x_train)}')\n",
    "    \n",
    "    return x_train, x_test, y_train, y_test"
   ]
  },
  {
   "cell_type": "code",
   "execution_count": null,
   "metadata": {},
   "outputs": [],
   "source": [
    "def show_images(x, y, n_ims_show=5):\n",
    "    \n",
    "    # examples of the x images \n",
    "    plt.figure()\n",
    "    plt.rcParams['figure.figsize'] = (15, 5)\n",
    "    plt.imshow(np.concatenate(x[:n_ims_show,:,:,0],axis=1), interpolation='none')\n",
    "    plt.axis('off');\n",
    "    # examples of the y images - first landmark\n",
    "    y_32 = y.astype(np.float32)\n",
    "    plt.figure()\n",
    "    plt.rcParams['figure.figsize'] = (15, 5)\n",
    "    plt.imshow(np.concatenate(y_32[:n_ims_show,:,:,0],axis=1), interpolation='none')\n",
    "    plt.axis('off');\n",
    "    \n",
    "    # example of overlay all y on x:\n",
    "    y_overlay = np.max(y_32, axis=3)\n",
    "    xy_overlay = x[:,:,:,0] + y_overlay\n",
    "    plt.figure()\n",
    "    plt.rcParams['figure.figsize'] = (15, 5)\n",
    "    plt.imshow(np.concatenate(xy_overlay[:n_ims_show,:,:],axis=1), interpolation='none')\n",
    "    plt.axis('off');"
   ]
  },
  {
   "cell_type": "code",
   "execution_count": null,
   "metadata": {},
   "outputs": [],
   "source": [
    "import csv\n",
    "import os\n",
    "\n",
    "csv_file = '1'\n",
    "\n",
    "csv_folder = os.path.join(input_folder, 'csv_dir')\n",
    "\n",
    "with open(os.path.join(csv_folder,f'{csv_file}.csv'), newline='') as csvfile:\n",
    "    reader = csv.reader(csvfile, delimiter=',')\n",
    "    params = {row[0]:row[1] for row in reader}"
   ]
  },
  {
   "cell_type": "code",
   "execution_count": null,
   "metadata": {},
   "outputs": [],
   "source": [
    "x_train,x_test,y_train,y_test = load_input_set_shuffle_and_split(show_images)\n",
    "\n",
    "training_set = [x_train, y_train]"
   ]
  },
  {
   "cell_type": "code",
   "execution_count": null,
   "metadata": {},
   "outputs": [],
   "source": [
    "data_gen_args = dict(rotation_range=15,\n",
    "                               width_shift_range=0.1,\n",
    "                               height_shift_range=0.1,\n",
    "                               shear_range=0.01,\n",
    "                               zoom_range=[0.95, 1.05],\n",
    "                               horizontal_flip=True,\n",
    "                               vertical_flip=True,\n",
    "                               fill_mode='reflect',\n",
    "                               data_format='channels_last',\n",
    "                               brightness_range=[0.8, 1.2])\n",
    "\n",
    "image_datagen = ImageDataGenerator(**data_gen_args)\n",
    "n_y_channels = y_train.shape[3]\n",
    "#n_y_channels = 3\n",
    "mask_datagen_l = [ImageDataGenerator(**data_gen_args) for i in range(n_y_channels)]\n",
    "\n",
    "seed = 1\n",
    "image_datagen.fit(x_train, augment=True, seed=seed)\n",
    "\n",
    "for i in range(n_y_channels):\n",
    "    mask_datagen_l[i].fit(y_train[:,:,:,i,np.newaxis], augment=True, seed=seed)\n",
    "\n",
    "# fits the model on batches with real-time data augmentation:\n",
    "image_generator = image_datagen.flow(x_train,seed=seed, batch_size=32, save_to_dir=output_dir, save_prefix='', save_format='png')\n",
    "mask_generator_l = [mask_datagen_l[i].flow(y_train[:,:,:,i,np.newaxis], seed=seed, batch_size=32, save_to_dir=output_dir, save_prefix='', save_format='png') for i in range(n_y_channels)]\n",
    "\n",
    "train_generator = zip(image_generator, *mask_generator_l)"
   ]
  },
  {
   "cell_type": "code",
   "execution_count": null,
   "metadata": {},
   "outputs": [],
   "source": [
    "train_generator = zip(image_generator, *mask_generator_l)"
   ]
  },
  {
   "cell_type": "code",
   "execution_count": null,
   "metadata": {},
   "outputs": [],
   "source": [
    "new_augments = np.asarray(next(train_generator))"
   ]
  },
  {
   "cell_type": "code",
   "execution_count": null,
   "metadata": {},
   "outputs": [],
   "source": [
    "im_num = 10\n",
    "train_example = new_augments[:,im_num,:,:,0]"
   ]
  },
  {
   "cell_type": "code",
   "execution_count": null,
   "metadata": {},
   "outputs": [],
   "source": [
    "x1 = train_example[0,:,:]\n",
    "y1 = np.max(train_example[1:], axis=0)"
   ]
  },
  {
   "cell_type": "code",
   "execution_count": null,
   "metadata": {},
   "outputs": [],
   "source": [
    "xy1 = x1+y1\n",
    "fig = plt.figure(3, figsize=(10,10))\n",
    "ax = fig.add_subplot(1, 2, 1)\n",
    "plt.imshow(xy1)\n",
    "plt.axis('off');\n",
    "\n",
    "xy2 = x1\n",
    "ax = fig.add_subplot(1, 2, 2)\n",
    "plt.imshow(xy2)\n",
    "plt.axis('off');"
   ]
  },
  {
   "cell_type": "code",
   "execution_count": null,
   "metadata": {},
   "outputs": [],
   "source": []
  }
 ],
 "metadata": {
  "kernelspec": {
   "display_name": "Python (gpu notebook)",
   "language": "python",
   "name": "tf_gpu"
  },
  "language_info": {
   "codemirror_mode": {
    "name": "ipython",
    "version": 3
   },
   "file_extension": ".py",
   "mimetype": "text/x-python",
   "name": "python",
   "nbconvert_exporter": "python",
   "pygments_lexer": "ipython3",
   "version": "3.6.8"
  }
 },
 "nbformat": 4,
 "nbformat_minor": 2
}
